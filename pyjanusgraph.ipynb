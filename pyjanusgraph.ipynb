{
 "cells": [
  {
   "cell_type": "code",
   "execution_count": null,
   "metadata": {
    "pycharm": {
     "is_executing": true
    }
   },
   "outputs": [],
   "source": [
    "from gremlin_python import statics\n",
    "from gremlin_python.process.anonymous_traversal import traversal\n",
    "from gremlin_python.process.graph_traversal import __\n",
    "from gremlin_python.process.strategies import *\n",
    "from gremlin_python.driver.driver_remote_connection import DriverRemoteConnection\n",
    "from gremlin_python.process.traversal import T\n",
    "from gremlin_python.process.traversal import Order\n",
    "from gremlin_python.process.traversal import Cardinality\n",
    "from gremlin_python.process.traversal import Column\n",
    "from gremlin_python.process.traversal import Direction\n",
    "from gremlin_python.process.traversal import Operator\n",
    "from gremlin_python.process.traversal import P\n",
    "from gremlin_python.process.traversal import Pop\n",
    "from gremlin_python.process.traversal import Scope\n",
    "from gremlin_python.process.traversal import Barrier\n",
    "from gremlin_python.process.traversal import Bindings\n",
    "from gremlin_python.process.traversal import WithOptions\n",
    "from gremlin_python.structure.graph import Graph\n"
   ]
  },
  {
   "cell_type": "code",
   "execution_count": null,
   "outputs": [],
   "source": [
    "# 图graph\n",
    "graph = Graph()\n",
    "connection = DriverRemoteConnection('ws://192.168.56.101:8182/gremlin', 'g')\n",
    "g = graph.traversal().withRemote(connection)\n",
    "g.V().toList()"
   ],
   "metadata": {
    "collapsed": false,
    "pycharm": {
     "name": "#%%\n",
     "is_executing": true
    }
   }
  },
  {
   "cell_type": "code",
   "execution_count": null,
   "outputs": [],
   "source": [
    "# 图graph2\n",
    "graph2 = Graph()\n",
    "connection2 = DriverRemoteConnection('ws://192.168.56.101:8182/gremlin', 'graph2')\n",
    "graph2 = graph2.traversal().withRemote(connection2)\n",
    "# graph2.addV(\"people\").property(\"name\",'ztwuceshi').next()\n",
    "graph2.V().toList()"
   ],
   "metadata": {
    "collapsed": false,
    "pycharm": {
     "name": "#%%\n",
     "is_executing": true
    }
   }
  },
  {
   "cell_type": "code",
   "execution_count": null,
   "metadata": {
    "pycharm": {
     "is_executing": true
    }
   },
   "outputs": [],
   "source": [
    "# 图graph\n",
    "from gremlin_python.driver import serializer\n",
    "from gremlin_python.driver import client\n",
    "client = client.Client('ws://192.168.56.101:8182/gremlin', \n",
    "                       traversal_source='g', \n",
    "                       message_serializer=serializer.GraphSONMessageSerializer())\n",
    "gmsql1 = \"mgmt = graph.openManagement()\\n\"\n",
    "result_set  = client.submit(gmsql1)\n",
    "\n",
    "gmsql2 = \"g.V().toList()\\n\"\n",
    "result_set  = client.submit(gmsql2)\n",
    "future_results = result_set.all()\n",
    "results = future_results.result() \n",
    "for rs in results:\n",
    "    print(rs.id)"
   ]
  },
  {
   "cell_type": "code",
   "execution_count": null,
   "outputs": [],
   "source": [
    "# # 图graph\n",
    "# graph = Graph()\n",
    "# connection = DriverRemoteConnection('ws://192.168.56.101:8182/gremlin', 'g')\n",
    "# g = graph.traversal().withComputer(connection)\n",
    "# g.V().toList()\n"
   ],
   "metadata": {
    "collapsed": false,
    "pycharm": {
     "name": "#%%\n",
     "is_executing": true
    }
   }
  }
 ],
 "metadata": {
  "kernelspec": {
   "name": "python36",
   "language": "python",
   "display_name": "python36"
  },
  "language_info": {
   "codemirror_mode": {
    "name": "ipython",
    "version": 3
   },
   "file_extension": ".py",
   "mimetype": "text/x-python",
   "name": "python",
   "nbconvert_exporter": "python",
   "pygments_lexer": "ipython3",
   "version": "3.7.6"
  },
  "pycharm": {
   "stem_cell": {
    "cell_type": "raw",
    "source": [],
    "metadata": {
     "collapsed": false
    }
   }
  }
 },
 "nbformat": 4,
 "nbformat_minor": 2
}